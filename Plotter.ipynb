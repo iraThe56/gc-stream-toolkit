{
 "cells": [
  {
   "metadata": {},
   "cell_type": "code",
   "source": [
    "import subprocess\n",
    "import numpy as np\n",
    "import pandas as pd\n",
    "import re\n",
    "import astropy.units as u\n",
    "import gala.dynamics as gala_dynamics\n",
    "import os\n",
    "from gala.units import galactic\n",
    "import plotly.express as px\n",
    "from gc_stream_toolkit import read_nemo"
   ],
   "id": "65707e0f3320b2fd",
   "outputs": [],
   "execution_count": null
  },
  {
   "cell_type": "code",
   "id": "initial_id",
   "metadata": {
    "collapsed": true
   },
   "source": [
    "\n",
    "os.environ['NEMO_PATH'] = '/Users/iraevetts/CLionProjects/FalCone/nemo'\n",
    "\n",
    "filename = r\"/Users/iraevetts/CLionProjects/FalCone/nemo/egg_boy_composite1.dat\"\n",
    "\n",
    "# nemo_data = read_nemo(filename, timestep=-1)\n",
    "\n",
    "# nemo_data = read_nemo(filename, timestep=0)\n",
    "\n",
    "# Look at the 10th snapshot\n",
    "# nemo_data = read_nemo(filename, timestep=10)\n",
    "\n",
    "# Look at the 50th snapshot\n",
    "# nemo_data = read_nemo(filename, timestep=500)\n",
    "\n",
    "\n",
    "# Get the last timestep (Time 100.0)\n",
    "data = read_nemo(filename, timestep=-1)\n",
    "print(f\"Time: {data.time}, Particles: {data.particle_count}\")\n",
    "\n",
    "# Or get an earlier timestep\n",
    "data_early = read_nemo(filename, timestep=0)  # First snapshot\n",
    "print(f\"Time: {data_early.time}\")\n"
   ],
   "outputs": [],
   "execution_count": null
  },
  {
   "metadata": {},
   "cell_type": "code",
   "source": [
    "nemo_data=data\n",
    "tidal_tails_interactive_fig = px.scatter_3d(\n",
    "    x=nemo_data.phase_space_position.x.value,\n",
    "    y=nemo_data.phase_space_position.y.value,\n",
    "    z=nemo_data.phase_space_position.z.value,\n",
    "    title='FALCON N-body Simulation',\n",
    "    labels={'x': 'X [kpc]', 'y': 'Y [kpc]', 'z': 'Z [kpc]'},\n",
    "    opacity=.6,\n",
    ")\n",
    "\n",
    "tidal_tails_interactive_fig.update_traces(marker=dict(size=1))\n",
    "tidal_tails_interactive_fig.update_layout(width=800, height=800, scene=dict(aspectmode='cube'))\n",
    "tidal_tails_interactive_fig.show()"
   ],
   "id": "5820dcf4dfa8da02",
   "outputs": [],
   "execution_count": null
  }
 ],
 "metadata": {
  "kernelspec": {
   "display_name": "Python 3",
   "language": "python",
   "name": "python3"
  },
  "language_info": {
   "codemirror_mode": {
    "name": "ipython",
    "version": 2
   },
   "file_extension": ".py",
   "mimetype": "text/x-python",
   "name": "python",
   "nbconvert_exporter": "python",
   "pygments_lexer": "ipython2",
   "version": "2.7.6"
  }
 },
 "nbformat": 4,
 "nbformat_minor": 5
}
