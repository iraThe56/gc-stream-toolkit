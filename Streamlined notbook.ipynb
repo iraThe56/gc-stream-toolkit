{
 "cells": [
  {
   "cell_type": "code",
   "id": "initial_id",
   "metadata": {
    "collapsed": true
   },
   "source": [
    "# Replace your entire import block with:\n",
    "from gc_stream_toolkit import setup_imports, get_cluster\n",
    "\n",
    "imports = setup_imports(verbose=False)\n",
    "import astropy.units as u\n",
    "cluster = get_cluster(\"ngc6569\")\n",
    "gc_phase_spae_position= cluster\n",
    "\n"
   ],
   "outputs": [],
   "execution_count": null
  },
  {
   "metadata": {},
   "cell_type": "code",
   "source": [
    "print(cluster.name)\n",
    "print(cluster.phase_space_position)"
   ],
   "id": "51e261e17c39aadb",
   "outputs": [],
   "execution_count": null
  },
  {
   "metadata": {},
   "cell_type": "code",
   "source": [
    "from gc_stream_toolkit import get_cluster\n",
    "\n",
    "cluster = get_cluster(\"ngc6569\")\n",
    "\n",
    "# Get the galactocentric coordinates in proper units\n",
    "gc_coords = cluster.galactocentric\n",
    "\n",
    "print(\"Galactocentric Position:\")\n",
    "print(f\"X: {gc_coords.x.to(u.kpc).value:.3f} kpc\")\n",
    "print(f\"Y: {gc_coords.y.to(u.kpc).value:.3f} kpc\")\n",
    "print(f\"Z: {gc_coords.z.to(u.kpc).value:.3f} kpc\")\n",
    "\n",
    "print(\"\\nGalactocentric Velocity:\")\n",
    "print(f\"vx: {gc_coords.v_x.to(u.km/u.s).value:.3f} km/s\")\n",
    "print(f\"vy: {gc_coords.v_y.to(u.km/u.s).value:.3f} km/s\")\n",
    "print(f\"vz: {gc_coords.v_z.to(u.km/u.s).value:.3f} km/s\")\n",
    "\n",
    "# Convert velocities to NEMO units (kpc/Myr)\n",
    "# 1 km/s = 1.022684 kpc/Myr\n",
    "vx_nemo = gc_coords.v_x.to(u.km/u.s).value * 1.022684\n",
    "vy_nemo = gc_coords.v_y.to(u.km/u.s).value * 1.022684\n",
    "vz_nemo = gc_coords.v_z.to(u.km/u.s).value * 1.022684\n",
    "\n",
    "print(f\"\\nNEMO Velocities (kpc/Myr):\")\n",
    "print(f\"vx: {vx_nemo:.3f}\")\n",
    "print(f\"vy: {vy_nemo:.3f}\")\n",
    "print(f\"vz: {vz_nemo:.3f}\")\n",
    "\n",
    "# Mass in NEMO units (10^10 Msun)\n",
    "mass_nemo = cluster.mass.to(u.Msun).value / 1e10\n",
    "print(f\"\\nCluster mass: {mass_nemo:.2e} NEMO units\")"
   ],
   "id": "404b631ebcd3dec1",
   "outputs": [],
   "execution_count": null
  }
 ],
 "metadata": {
  "kernelspec": {
   "display_name": "Python 3",
   "language": "python",
   "name": "python3"
  },
  "language_info": {
   "codemirror_mode": {
    "name": "ipython",
    "version": 2
   },
   "file_extension": ".py",
   "mimetype": "text/x-python",
   "name": "python",
   "nbconvert_exporter": "python",
   "pygments_lexer": "ipython2",
   "version": "2.7.6"
  }
 },
 "nbformat": 4,
 "nbformat_minor": 5
}
