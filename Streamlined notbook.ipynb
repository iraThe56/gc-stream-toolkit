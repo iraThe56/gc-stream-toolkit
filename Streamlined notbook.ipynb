{
 "cells": [
  {
   "cell_type": "code",
   "id": "initial_id",
   "metadata": {
    "collapsed": true,
    "ExecuteTime": {
     "end_time": "2025-07-07T20:11:24.101114Z",
     "start_time": "2025-07-07T20:11:24.093362Z"
    }
   },
   "source": [
    "# Replace your entire import block with:\n",
    "from gc_stream_toolkit import setup_imports, get_cluster\n",
    "\n",
    "imports = setup_imports()\n",
    "u, plt, coord, gp, gd, ms = [imports[k] for k in ['u', 'plt', 'coord', 'gp', 'gd', 'ms']]\n",
    "\n",
    "cluster = get_cluster(\"ngc6569\")\n",
    "gc_phase_spae_position= cluster\n",
    "gc_mass=cluster.\n"
   ],
   "outputs": [
    {
     "name": "stdout",
     "output_type": "stream",
     "text": [
      "Setting up stellar stream analysis environment...\n",
      "  Importing mathematical and plotting tools...\n",
      "    ✓ Plotly available for interactive plots\n",
      "  Importing astronomy libraries...\n",
      "  Importing Gala galactic dynamics...\n",
      "  Setting up data query tools...\n",
      "    ⚠ Astroquery not available - data queries disabled\n",
      "  Configuring default parameters...\n",
      "✓ Setup complete!\n",
      "  Running in Colab: False\n",
      "  Astroquery available: False\n",
      "  Interactive plots: True\n",
      "Cluster: NGC 6569\n",
      "Coordinates: RA=273.412 deg, Dec=-31.827 deg\n",
      "Distance: 10.50 kpc\n",
      "Proper motion: μ_α*=-4.125 mas / yr, μ_δ=-7.354 mas / yr\n",
      "Radial velocity: -49.82 km / s\n",
      "Mass: 2.3e+05 solMass\n",
      "Source: Vasiliev et al. 2021, modified RV\n",
      "\n",
      "Galactocentric coordinates:\n",
      "X: 2.30 kpc\n",
      "Y: 0.09 kpc\n",
      "Z: -1.23 kpc\n"
     ]
    }
   ],
   "execution_count": 3
  }
 ],
 "metadata": {
  "kernelspec": {
   "display_name": "Python 3",
   "language": "python",
   "name": "python3"
  },
  "language_info": {
   "codemirror_mode": {
    "name": "ipython",
    "version": 2
   },
   "file_extension": ".py",
   "mimetype": "text/x-python",
   "name": "python",
   "nbconvert_exporter": "python",
   "pygments_lexer": "ipython2",
   "version": "2.7.6"
  }
 },
 "nbformat": 4,
 "nbformat_minor": 5
}
