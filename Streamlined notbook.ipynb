{
 "cells": [
  {
   "cell_type": "code",
   "id": "initial_id",
   "metadata": {
    "collapsed": true,
    "ExecuteTime": {
     "end_time": "2025-07-17T19:56:14.738069Z",
     "start_time": "2025-07-17T19:56:13.502715Z"
    }
   },
   "source": [
    "# Replace your entire import block with:\n",
    "from gc_stream_toolkit import setup_imports, get_cluster\n",
    "\n",
    "imports = setup_imports(verbose=False)\n",
    "\n",
    "\n",
    "cluster = get_cluster(\"ngc6569\")\n",
    "gc_phase_spae_position= cluster\n",
    "\n"
   ],
   "outputs": [],
   "execution_count": 1
  },
  {
   "metadata": {
    "ExecuteTime": {
     "end_time": "2025-07-17T19:56:44.705481Z",
     "start_time": "2025-07-17T19:56:44.702646Z"
    }
   },
   "cell_type": "code",
   "source": [
    "print(cluster.name)\n",
    "print(cluster.phase_space_position)"
   ],
   "id": "51e261e17c39aadb",
   "outputs": [
    {
     "name": "stdout",
     "output_type": "stream",
     "text": [
      "NGC 6569\n",
      "pos=(2.33297757, 0.08778033, -1.23107683) kpc\n",
      "vel=(-6.70906242, -37.03426318, 5.05441544) kpc mas / (rad yr)\n"
     ]
    }
   ],
   "execution_count": 3
  }
 ],
 "metadata": {
  "kernelspec": {
   "display_name": "Python 3",
   "language": "python",
   "name": "python3"
  },
  "language_info": {
   "codemirror_mode": {
    "name": "ipython",
    "version": 2
   },
   "file_extension": ".py",
   "mimetype": "text/x-python",
   "name": "python",
   "nbconvert_exporter": "python",
   "pygments_lexer": "ipython2",
   "version": "2.7.6"
  }
 },
 "nbformat": 4,
 "nbformat_minor": 5
}
