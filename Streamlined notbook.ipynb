{
 "cells": [
  {
   "cell_type": "code",
   "id": "initial_id",
   "metadata": {
    "collapsed": true
   },
   "source": [
    "# Replace your entire import block with:\n",
    "from gc_stream_toolkit import setup_imports, get_cluster\n",
    "\n",
    "imports = setup_imports(verbose=False)\n",
    "\n",
    "\n",
    "cluster = get_cluster(\"ngc6569\")\n",
    "gc_phase_spae_position= cluster\n",
    "\n"
   ],
   "outputs": [],
   "execution_count": null
  },
  {
   "metadata": {},
   "cell_type": "code",
   "source": [
    "print(cluster.name)\n",
    "print(cluster.phase_space_position)"
   ],
   "id": "51e261e17c39aadb",
   "outputs": [],
   "execution_count": null
  }
 ],
 "metadata": {
  "kernelspec": {
   "display_name": "Python 3",
   "language": "python",
   "name": "python3"
  },
  "language_info": {
   "codemirror_mode": {
    "name": "ipython",
    "version": 2
   },
   "file_extension": ".py",
   "mimetype": "text/x-python",
   "name": "python",
   "nbconvert_exporter": "python",
   "pygments_lexer": "ipython2",
   "version": "2.7.6"
  }
 },
 "nbformat": 4,
 "nbformat_minor": 5
}
